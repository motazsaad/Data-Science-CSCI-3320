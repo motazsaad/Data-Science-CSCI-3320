{
 "cells": [
  {
   "cell_type": "code",
   "execution_count": 10,
   "metadata": {},
   "outputs": [],
   "source": [
    "import numpy as np\n",
    "import pandas as pd\n",
    "import matplotlib.pyplot as plt\n",
    "import scipy.cluster.hierarchy as shc\n",
    "from sklearn.cluster import AgglomerativeClustering\n",
    "import seaborn as sns"
   ]
  },
  {
   "cell_type": "code",
   "execution_count": 3,
   "metadata": {},
   "outputs": [],
   "source": [
    "# Download the data from http://www.saedsayad.com/datasets/CreditData.zip\n",
    "dataset=pd.read_csv('C:\\\\Users\\\\Lenovo\\\\Documents\\\\Python Codes\\\\BikeRental\\\\bike_rental_train.csv')"
   ]
  },
  {
   "cell_type": "code",
   "execution_count": null,
   "metadata": {},
   "outputs": [],
   "source": [
    "dataset.shape"
   ]
  },
  {
   "cell_type": "code",
   "execution_count": null,
   "metadata": {},
   "outputs": [],
   "source": [
    "dataset.columns"
   ]
  },
  {
   "cell_type": "code",
   "execution_count": null,
   "metadata": {},
   "outputs": [],
   "source": [
    "# plot dendogram\n",
    "plt.figure(figsize=(10, 7))\n",
    "plt.title(\"BikeRental Dendrogram\")\n",
    "\n",
    "# Selecting Annual Income and Spending Scores by index\n",
    "selected_data = dataset.iloc[:, 0:3]\n",
    "clusters = shc.linkage(selected_data, method='ward', metric=\"euclidean\")\n",
    "shc.dendrogram(Z=clusters)\n",
    "plt.show()"
   ]
  },
  {
   "cell_type": "code",
   "execution_count": null,
   "metadata": {},
   "outputs": [],
   "source": [
    "# Agglomerative Hierarchical Clustering\n",
    "clustering_model = AgglomerativeClustering(n_clusters=3, affinity='euclidean', linkage='ward')\n",
    "clustering_model.fit(selected_data)\n",
    "clustering_model.labels_"
   ]
  },
  {
   "cell_type": "code",
   "execution_count": null,
   "metadata": {},
   "outputs": [],
   "source": [
    "data_labels = clustering_model.labels_\n",
    "sns.scatterplot(x='temp', \n",
    "                y='humidity', \n",
    "                data=selected_data, \n",
    "                hue=data_labels).set_title('Labeled BikeRental Data')"
   ]
  }
 ],
 "metadata": {
  "kernelspec": {
   "display_name": "Python 3.11.0 64-bit",
   "language": "python",
   "name": "python3"
  },
  "language_info": {
   "codemirror_mode": {
    "name": "ipython",
    "version": 3
   },
   "file_extension": ".py",
   "mimetype": "text/x-python",
   "name": "python",
   "nbconvert_exporter": "python",
   "pygments_lexer": "ipython3",
   "version": "3.11.0"
  },
  "orig_nbformat": 4,
  "vscode": {
   "interpreter": {
    "hash": "e956c49ae0caa224b5fdd754cbc353d7e61c6c61f7329ee680c7f7b4f1b71a8e"
   }
  }
 },
 "nbformat": 4,
 "nbformat_minor": 2
}
